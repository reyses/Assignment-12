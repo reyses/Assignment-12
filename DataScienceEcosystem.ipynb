{
 "cells": [
  {
   "cell_type": "markdown",
   "id": "add61f97-1768-44f3-adad-9efc2e723916",
   "metadata": {
    "tags": []
   },
   "source": [
    "<h1>Data Science Tools and Ecosystem<h1>"
   ]
  },
  {
   "cell_type": "markdown",
   "id": "b95d2f14-ec6d-4cd1-8a15-3e8d8f34edb9",
   "metadata": {},
   "source": [
    "## In this notebook, Data Science Tools and Ecosystem are summarized."
   ]
  },
  {
   "cell_type": "markdown",
   "id": "87814d6f-0702-46cd-a6ab-449efa743bb8",
   "metadata": {},
   "source": [
    " **Objectives:**\n",
    " * Popular languages used\n",
    " * Commenly used Libraries\n",
    " * simple Math"
   ]
  },
  {
   "cell_type": "markdown",
   "id": "dd6eed2d-eaea-47a6-9553-6498a9039a49",
   "metadata": {},
   "source": [
    " ### Some of the popular languages that Data Scientists use are:\n",
    " 1. Python\n",
    " 1. R \n",
    " 1. SQL"
   ]
  },
  {
   "cell_type": "markdown",
   "id": "8db1f70b-1187-44ba-8219-841f59e9e694",
   "metadata": {
    "tags": []
   },
   "source": [
    "### Some of the commonly used libraries used by Data Scientists include:\n",
    "\n",
    "1. Scikit-learn\n",
    "1. Pandas\n",
    "1. Seaborn"
   ]
  },
  {
   "cell_type": "markdown",
   "id": "2a7cbdf4-4a54-46c8-a858-b74452cff43f",
   "metadata": {},
   "source": [
    "|Data Science Tools |\n",
    "| -------------|\n",
    "| Jupyter Notebooks |\n",
    "| Rsutdio |\n",
    "| Apache Zeppelin |"
   ]
  },
  {
   "cell_type": "markdown",
   "id": "d3063abf-f532-47fe-b0a9-5e7e568fee4d",
   "metadata": {},
   "source": [
    "### Below are a few examples of evaluating arithmetic expressions in Python"
   ]
  },
  {
   "cell_type": "code",
   "execution_count": 10,
   "id": "986be691-733f-474a-807f-e71164a19f4f",
   "metadata": {
    "tags": []
   },
   "outputs": [
    {
     "data": {
      "text/plain": [
       "17"
      ]
     },
     "execution_count": 10,
     "metadata": {},
     "output_type": "execute_result"
    }
   ],
   "source": [
    "(3*4)+5\n",
    "#This a simple arithmetic expression to multiply then add integers"
   ]
  },
  {
   "cell_type": "code",
   "execution_count": 11,
   "id": "11cb4448-e351-4ddb-b571-ed3326a8eb5d",
   "metadata": {
    "tags": []
   },
   "outputs": [
    {
     "data": {
      "text/plain": [
       "3.3333333333333335"
      ]
     },
     "execution_count": 11,
     "metadata": {},
     "output_type": "execute_result"
    }
   ],
   "source": [
    "200/60\n",
    "#This will convert 200 minutes to hours by diving by 60"
   ]
  },
  {
   "cell_type": "markdown",
   "id": "c4764ae5-2ce3-45d5-b822-d08a0598a33f",
   "metadata": {},
   "source": [
    "## Author\n",
    "### Reymundo Moises Arce Paramo"
   ]
  },
  {
   "cell_type": "code",
   "execution_count": null,
   "id": "42dbc02e-6636-40fe-bb29-5b8a4c9e5a01",
   "metadata": {},
   "outputs": [],
   "source": []
  }
 ],
 "metadata": {
  "kernelspec": {
   "display_name": "Python",
   "language": "python",
   "name": "conda-env-python-py"
  },
  "language_info": {
   "codemirror_mode": {
    "name": "ipython",
    "version": 3
   },
   "file_extension": ".py",
   "mimetype": "text/x-python",
   "name": "python",
   "nbconvert_exporter": "python",
   "pygments_lexer": "ipython3",
   "version": "3.7.12"
  }
 },
 "nbformat": 4,
 "nbformat_minor": 5
}
